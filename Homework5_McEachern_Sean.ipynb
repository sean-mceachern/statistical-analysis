{
 "cells": [
  {
   "cell_type": "markdown",
   "metadata": {},
   "source": [
    "<a id='top'></a>\n",
    "\n",
    "# Homework 5: Bootstrap, Hypothesis Testing and Regression\n",
    "***\n",
    "\n",
    "**Name**: Sean McEachern\n",
    "\n",
    "***\n",
    "\n",
    "This assignment is due on Canvas by **11:59 PM on Friday November 22**. Your solutions to theoretical questions should be done in Markdown/MathJax directly below the associated question.  Your solutions to computational questions should include any specified Python code and results as well as written commentary on your conclusions.  Remember that you are encouraged to discuss the problems with your instructors and classmates, but **you must write all code and solutions on your own**. \n",
    "\n",
    "**NOTES**: \n",
    "\n",
    "- Any relevant data sets should be available under the **Data** module on Canvas, as well as in the zipped folder in which you obtained this assignment. \n",
    "- Do **NOT** load or use any Python packages that are not available in Anaconda 3.6. \n",
    "- Because you can technically evaluate notebook cells in a non-linear order, it's a good idea to do Kernel $\\rightarrow$ Restart & Run All as a check before submitting your solutions.  That way if we need to run your code you will know that it will work as expected. \n",
    "- It is **bad form** to make your reader interpret numerical output from your code.  If a question asks you to compute some value from the data you should show your code output **AND** write a summary of the results in Markdown directly below your code. \n",
    "- You **MUST** leave all of your notebook cells **evaluated** so the graders do not need to re-evaluate them. For 100+ students, this extra time adds up, and makes the graders' lives unnecessarily more difficult.\n",
    "- This probably goes without saying, but... For any question that asks you to calculate something, you **must show all work and justify your answers to receive credit**. Sparse or nonexistent work will receive sparse or nonexistent credit. \n",
    "- Submit only this Jupyter notebook to Canvas.  Do not compress it using tar, rar, zip, etc. \n",
    "\n",
    "---\n",
    "**Shortcuts:**  [Problem 1](#p1) | [Problem 2](#p2) | [Problem 3](#p3) | [Problem 4](#p4) \n",
    "\n",
    "---"
   ]
  },
  {
   "cell_type": "code",
   "execution_count": 661,
   "metadata": {
    "collapsed": true,
    "scrolled": true
   },
   "outputs": [],
   "source": [
    "import numpy as np\n",
    "import matplotlib.pyplot as plt\n",
    "import pandas as pd\n",
    "from scipy import stats \n",
    "%matplotlib inline"
   ]
  },
  {
   "cell_type": "markdown",
   "metadata": {},
   "source": [
    "---\n",
    "[Back to top](#top)\n",
    "<a id='p1'></a>\n",
    "\n",
    "### [20 points] Problem 1 - Hypothesis Testing: Knowledge Check\n",
    "\n",
    "You are working as a Data Scientist for an internet company. Your co-worker, Bob Dob, is a lovable scamp! Unfortunately, he also makes a lot of mistakes throughout the day as the two of you team up to tackle some inference work regarding your company's customers. In each case, clearly explain why Bob's hypothesis testing setup or conclusion is incorrect."
   ]
  },
  {
   "cell_type": "markdown",
   "metadata": {},
   "source": [
    "**Part A**: Bob has some data on the characteristics of customers that visited the company's website over the previous month.  He wants to perform an analysis on the proportion of last month's website visitors that bought something.  \n",
    "\n",
    "Let $X$ be the random variable describing the number of website visitors who bought something in the previous month, and suppose that the population proportion of visitors who bought something is $p$. Bob is particularly interested to see if the data suggests that more than 15% of website visitors actually buy something.  He decides to perform the test with a null hypothesis of $H_0: \\hat{p} = 0.15$."
   ]
  },
  {
   "cell_type": "markdown",
   "metadata": {},
   "source": [
    "**RESPONSE**\n",
    "\n",
    "If Bob wants to find out if the percent of visitors who buy something is more than 15% then Bob needs to test with null hypothesis of $H_0: p = 0.15$ testing with $\\hat{p}$ will only give the percent of a particular sample and Bob is trying to estimate the population proportion not just a sample."
   ]
  },
  {
   "cell_type": "markdown",
   "metadata": {},
   "source": [
    "**Part B**: Bob decides instead to do his hypothesis test with a null hypothesis of $H_0: p > 0.15$."
   ]
  },
  {
   "cell_type": "markdown",
   "metadata": {},
   "source": [
    "**RESPONSE**\n",
    "\n",
    "If Bob is interested to see if the data suggests that more than 15% of website visitors actually buy something then he should test a null hypothesis of $H_0 : p = 0.15$ with an alternative hypothesis of $H_1 : p > 0.15$ because the alternative hypothesis is the one for which we are seeking statistical evidence. The hypothesis with the equals is always the null hypothesis."
   ]
  },
  {
   "cell_type": "markdown",
   "metadata": {},
   "source": [
    "**Part C**: Finally on track with reasonable hypotheses of $H_0: p = 0.15$ and $H_1: p > 0.15$, Bob computes a normalized test-statistic of $z = -1.4$ for the sample proportion and concludes that since $z = -1.4 < 0.05$ there is sufficient statistical evidence at the $\\alpha = 0.05$ (95%) significance level that the proportion of customers who buy something is less than 15%."
   ]
  },
  {
   "cell_type": "markdown",
   "metadata": {},
   "source": [
    "**RESPONSE**\n",
    "\n",
    "In this case Bob is comparing his z-value (test statistic) directly to the alpha value of the significance level. He should be comparing the test statistic to the $Z_\\alpha$. He should do this is by using the stats.norm.ppf() function in python and passing the 0.05 into that function to get the probability."
   ]
  },
  {
   "cell_type": "markdown",
   "metadata": {},
   "source": [
    "**Part D**: Bob is again conducting the hypothesis test of $H_0: p = 0.15$ and $H_1: p > 0.15$. He computes a p-value of $0.03$, and thus concludes that there is only a 3% probability that the null hypothesis is true. "
   ]
  },
  {
   "cell_type": "markdown",
   "metadata": {},
   "source": [
    "**RESPONSE**\n",
    "\n",
    "This is incorrect because the p-value doesn't give us the probability that the event will occur. In this case there is a probability of 0.03 that the proportion of people that will buy something falls within significance levels. "
   ]
  },
  {
   "cell_type": "markdown",
   "metadata": {},
   "source": [
    "---\n",
    "[Back to top](#top)\n",
    "<a id='p3'></a>\n",
    "\n",
    "### [25 points] Problem 2 - Naps vs Coffee for Memory? \n",
    "\n",
    "It is estimated that [about 75% of adults](https://www.ncbi.nlm.nih.gov/pmc/articles/PMC4997286/) in the United States drink coffee. Often, coffee is used to replace the need for sleep. It works alright, or so we think. Let's find out, in this exciting homework problem!\n",
    "\n",
    "[One recent study](https://www.sciencedirect.com/science/article/pii/S1388245703002554) investigated the effects of drinking coffee, taking a nap, and having a [\"coffee-nap\"](https://lifehacker.com/naps-vs-coffee-which-is-better-when-youre-exhausted-1730643671) - the practice of drinking some coffee *and then* having a short nap. The study broke participants up into three groups of 15 participants each, where the groups would have a nap, or have a coffee, or have a coffee-nap, then perform a task where their reaction time was measured. In previous experiments the mean reaction time measurement was found to be normally distributed. The reaction time means (milliseconds, ms) and standard deviations for the three groups of participants are given in the table below.\n",
    "\n",
    "$$\n",
    "\\begin{array}{c|c|c|c}\n",
    "\\textrm{Group} & \\textrm{Sample Size} & \\textrm{Mean} & \\textrm{Standard Deviation} \\\\\n",
    "\\hline \n",
    "\\textrm{Coffee+Nap} & 15 & 451.3 & 31.9 \\\\ \n",
    "\\textrm{Coffee} & 15 & 494.2 & 39.6 \\\\ \n",
    "\\textrm{Nap} & 15 & 492.8 & 45.2 \\\\ \n",
    "\\end{array}\n",
    "$$\n",
    "\n",
    "**Part A**: Compute a 97.5% t-confidence interval for the mean reaction time measurement for participants in each of these three groups. (You should find three separate confidence intervals.) Report the results.\n",
    "\n",
    "1. Can you make any conclusions regarding whether coffee, naps or both (coffee-naps) are better for faster reaction times?\n",
    "2. Why did we use a t-distribution?"
   ]
  },
  {
   "cell_type": "code",
   "execution_count": 662,
   "metadata": {},
   "outputs": [
    {
     "name": "stdout",
     "output_type": "stream",
     "text": [
      "2.50956941148\n",
      "The CI for a coffee + nap =  (430.62981965837918, 471.97018034162085)\n",
      "The CI for a coffee =  (468.54046578281555, 519.85953421718443)\n",
      "The CI for a nap =  (463.5118447824056, 522.08815521759436)\n"
     ]
    }
   ],
   "source": [
    "# n_c = sample size of coffee\n",
    "# n_n = sample size of naps\n",
    "# n_cn = smple size of coffee+nap\n",
    "\n",
    "n = 15\n",
    "alpha = (1 - 0.975)\n",
    "\n",
    "# t-critical value\n",
    "t_crit = stats.t.ppf(1 - (alpha/2), (n - 1))\n",
    "\n",
    "#function to calculate t-confidence interval\n",
    "def t_CI(mean, t_crit, stdDev, n):\n",
    "    lower = mean - t_crit * stdDev/np.sqrt(n) \n",
    "    upper = mean + t_crit * stdDev/np.sqrt(n)\n",
    "    return lower, upper\n",
    "\n",
    "print(t_crit)\n",
    "print(\"The CI for a coffee + nap = \",t_CI(451.3, t_crit, 31.9, 15))\n",
    "print(\"The CI for a coffee = \",t_CI(494.2, t_crit, 39.6, 15))\n",
    "print(\"The CI for a nap = \",t_CI(492.8, t_crit, 45.2, 15))\n"
   ]
  },
  {
   "cell_type": "markdown",
   "metadata": {},
   "source": [
    "**RESPONSE**\n",
    "\n",
    "1. According to the data, a nap is the best for improving reaction times. Followed by coffee and then coffee+nap.\n",
    "2. We used a t-distribution because we had small (less than 30) sample size."
   ]
  },
  {
   "cell_type": "markdown",
   "metadata": {},
   "source": [
    "**Part B**: Use an appropriate hypothesis test to determine if there is sufficient evidence, at the $\\alpha = 0.025$ significance level, to conclude that taking a nap promotes faster reaction time than drinking coffee.  Be sure to clearly explain the test that you're doing and state all hypotheses. Do all computations in Python, and report results."
   ]
  },
  {
   "cell_type": "code",
   "execution_count": 663,
   "metadata": {},
   "outputs": [
    {
     "name": "stdout",
     "output_type": "stream",
     "text": [
      "t =  -0.0902293636206\n",
      "p-value = 0.535626340495\n"
     ]
    }
   ],
   "source": [
    "#function to calculate the difference of t-values\n",
    "def t_for_two(xbar_1,xbar_2, stddev_1, stddev_2, n_1, n_2 ):\n",
    "    return float (xbar_1 - xbar_2) / np.sqrt((stddev_1**2/(n_1)) + (stddev_2**2/(n_2)))\n",
    "    \n",
    "#nap=n coffee=c\n",
    "xbar_n = 492.8\n",
    "xbar_c = 494.2\n",
    "stddev_n = 45.2\n",
    "stddev_c = 39.6\n",
    "n_n = 15\n",
    "n_c = 15\n",
    "nu_n_and_c= (n_n - 1) + (n_c - 1)\n",
    "\n",
    "t_n_and_c = t_for_two(xbar_n,xbar_c, stddev_n, stddev_c, n_n, n_c)\n",
    "\n",
    "#results\n",
    "print(\"t = \", t_n_and_c)\n",
    "print(\"p-value =\", 1 - stats.t.cdf(t_n_and_c, nu_n_and_c))"
   ]
  },
  {
   "cell_type": "markdown",
   "metadata": {},
   "source": [
    "**RESPONSE**\n",
    "\n",
    "$h_0 :$ nap - coffee = 0 (regarding reaction times)\n",
    "\n",
    "$h_1 :$ nap - coffee > 0\n",
    "\n",
    "In this case the alternative hypothesis is one-tailed because we are only concerned if the reaction time is faster for a nap than for a coffee.\n",
    "\n",
    "using the p-value level $\\alpha$ test,\n",
    "\n",
    "$$t = \\frac{492.8 - 494.2}{\\sqrt{\\frac{45.2^2}{15} + \\frac{39.6^2}{15}}} = -0.0639407627912$$\n",
    "\n",
    "using python to calculate the p-value = 0.525264148985\n",
    "\n",
    "In this case the p-value $> \\alpha$ therefore, we cannot reject the null hypothesis."
   ]
  },
  {
   "cell_type": "markdown",
   "metadata": {},
   "source": [
    "**Part C**: Use an appropriate hypothesis test to determine if there is sufficient evidence, at the $\\alpha = 0.025$ significance level, to conclude that taking a coffee-nap promotes faster reaction time than only drinking coffee, or only having a nap.  Be sure to clearly explain the test that you're doing and state all hypotheses. Do all computations in Python, and report results."
   ]
  },
  {
   "cell_type": "code",
   "execution_count": 664,
   "metadata": {},
   "outputs": [
    {
     "name": "stdout",
     "output_type": "stream",
     "text": [
      "t =  -3.26744266406\n",
      "p-value = 0.00143459478477\n"
     ]
    }
   ],
   "source": [
    "#adding coffee+nap=cn variables\n",
    "xbar_cn = 451.3 \n",
    "stddev_cn = 31.9\n",
    "n_cn = 15\n",
    "\n",
    "#research calculating the nu for two \n",
    "#https://docs.scipy.org/doc/scipy/reference/generated/scipy.stats.ttest_ind.html\n",
    "#nu_cn_and_c = stats.ttest_ind()\n",
    "\n",
    "nu_cn_and_c = (n_cn - 1) + (n_c - 1)\n",
    "\n",
    "#function call\n",
    "t_cn_and_c = t_for_two(xbar_cn,xbar_c, stddev_cn, stddev_c, n_cn, n_c)\n",
    "\n",
    "#results\n",
    "print(\"t = \", t_cn_and_c)\n",
    "print(\"p-value =\", stats.t.cdf(t_cn_and_c, nu_cn_and_c))"
   ]
  },
  {
   "cell_type": "markdown",
   "metadata": {},
   "source": [
    "**RESPONSE**\n",
    "\n",
    "$h_0 :$ coffee nap - coffee = 0 (regarding reaction times)\n",
    "\n",
    "$h_1 :$ coffee nap - coffee < 0\n",
    "\n",
    "Again I am using a one-tail p-value level $\\alpha$ test \n",
    "\n",
    "$$t = \\frac{451.3 - 494.2}{\\sqrt{\\frac{31.9^2}{15} + \\frac{39.6^2}{15}}} = -3.55807934936$$\n",
    "\n",
    "using python to calculare the p-value = 0.000677507407111\n",
    "\n",
    "in this case the p-value $< \\alpha$ and therefore we reject the null hypothesis for the alternative hypothesis."
   ]
  },
  {
   "cell_type": "code",
   "execution_count": 665,
   "metadata": {},
   "outputs": [
    {
     "name": "stdout",
     "output_type": "stream",
     "text": [
      "t =  -2.90527262421\n",
      "p-value = 0.00354551572435\n"
     ]
    }
   ],
   "source": [
    "# coffee-nap versus nap\n",
    "t_cn_and_n = t_for_two(xbar_cn,xbar_n, stddev_cn, stddev_n, n_cn, n_n)\n",
    "nu_cn_and_n = (n_cn - 1) + (n_n - 1)\n",
    "\n",
    "#results\n",
    "print(\"t = \", t_cn_and_n)\n",
    "print(\"p-value =\", stats.t.cdf(t_cn_and_n, nu_cn_and_n))"
   ]
  },
  {
   "cell_type": "markdown",
   "metadata": {},
   "source": [
    "$h_0 :$ coffee nap - nap = 0 (regarding reaction times)\n",
    "\n",
    "$h_1 :$ coffee nap - nap < 0\n",
    "\n",
    "Again I am using a one-tail p-value level $\\alpha$ test \n",
    "\n",
    "$$t = \\frac{451.3 - 492.8}{\\sqrt{\\frac{31.9^2}{15} + \\frac{45.2^2}{15}}} = -3.44196487176$$\n",
    "\n",
    "using python to calculare the p-value = 0.000916323095298\n",
    "\n",
    "in this case the p-value $< \\alpha$ and therefore we reject the null hypothesis for the alternative hypothesis."
   ]
  },
  {
   "cell_type": "markdown",
   "metadata": {},
   "source": [
    "**Part D**: Compute a 97.5% confidence interval for the standard deviation of reaction time for coffee-nap takers. Do all computations in Python, and report the results."
   ]
  },
  {
   "cell_type": "code",
   "execution_count": 666,
   "metadata": {},
   "outputs": [
    {
     "name": "stdout",
     "output_type": "stream",
     "text": [
      "The 97.5% CI for the standard deviation of coffee-nap takers =  (22.388646811088421, 54.06880904564165)\n"
     ]
    }
   ],
   "source": [
    "alpha = 1 -0.975\n",
    "alpha_half = alpha/2\n",
    "n = 15\n",
    "nu = n - 1\n",
    "\n",
    "chi2_lower = stats.chi2.ppf(alpha_half, nu)\n",
    "chi2_upper = stats.chi2.ppf(1 - alpha_half, nu)\n",
    "\n",
    "def CI_for_stddev(chi2_lower, chi2_upper, n, stddev):\n",
    "    lower = np.sqrt((n - 1)*stddev**2)/np.sqrt(chi2_lower)\n",
    "    upper = np.sqrt((n - 1)*stddev**2)/np.sqrt(chi2_upper)\n",
    "    return upper,lower\n",
    "\n",
    "CI_for_stddev_coffe_nap = CI_for_stddev(chi2_lower, chi2_upper, n, stddev_cn)\n",
    "print(\"The 97.5% CI for the standard deviation of coffee-nap takers = \", CI_for_stddev_coffe_nap)"
   ]
  },
  {
   "cell_type": "markdown",
   "metadata": {},
   "source": [
    "**RESPONSE**\n",
    "\n",
    "To calculate the 97.5% CI for the standard deviation I square rooted the CI for variance \n",
    "\n",
    "$$\\sqrt{\\frac{(n-1)s^2}{X_{\\alpha/2, \\nu}^{2}}} \\leq \\sqrt{\\sigma^2} \\leq \\sqrt{\\frac{(n-1)s^2}{X_{1 - \\alpha/2, \\nu}^{2}}}$$"
   ]
  },
  {
   "cell_type": "markdown",
   "metadata": {},
   "source": [
    "---\n",
    "[Back to top](#top)\n",
    "<a id='p4'></a>\n",
    "\n",
    "### [25 points] Problem 3 - Bad Science for Fun and Profit \n",
    "\n",
    "[Data Dredging](https://en.wikipedia.org/wiki/Data_dredging) and [p-hacking](https://www.explainxkcd.com/wiki/index.php/882:_Significant) are umbrella terms for the dangerous practice of automatically testing a large number of hypotheses on the entirety or subsets of a single dataset in order to find statistically significant results. In this exercise we will focus on the idea of testing hypotheses on subsets of a single data set.  \n",
    "\n",
    "Nefaria Octopain has landed her first data science internship at an aquarium.  Her primary summer project has been to design and test a new feeding regimen for the aquarium's octopus population. To test her regimen, her supervisors have allowed her to deploy her new feeding regimen to 4 targeted octopus subpopulations of 40 octopuses each, every day, for a month. \n",
    "\n",
    "The effectiveness of the new diet is measured simply by the rate at which the food is consumed, which is simply defined to be the _proportion_ of octopuses that eat the food (POOTEF). The aquarium's standard octopus diet has a POOTEF of $0.90$.  Nefaria is hoping to land a permanent position at the aquarium when she graduates, so she's **really** motivated to show her supervisors that the POOTEF of her new diet regimen is a (statistically) significant improvement over their previous diet. \n",
    "\n",
    "The data from Nefaria's summer experiment can be found in `pootef.csv`. Load this dataset as a Pandas DataFrame. "
   ]
  },
  {
   "cell_type": "code",
   "execution_count": 667,
   "metadata": {},
   "outputs": [
    {
     "data": {
      "text/html": [
       "<div>\n",
       "<style>\n",
       "    .dataframe thead tr:only-child th {\n",
       "        text-align: right;\n",
       "    }\n",
       "\n",
       "    .dataframe thead th {\n",
       "        text-align: left;\n",
       "    }\n",
       "\n",
       "    .dataframe tbody tr th {\n",
       "        vertical-align: top;\n",
       "    }\n",
       "</style>\n",
       "<table border=\"1\" class=\"dataframe\">\n",
       "  <thead>\n",
       "    <tr style=\"text-align: right;\">\n",
       "      <th></th>\n",
       "      <th>Group</th>\n",
       "      <th>Date</th>\n",
       "      <th>Fed</th>\n",
       "      <th>Ate</th>\n",
       "    </tr>\n",
       "  </thead>\n",
       "  <tbody>\n",
       "    <tr>\n",
       "      <th>119</th>\n",
       "      <td>4</td>\n",
       "      <td>Oct 27 2018</td>\n",
       "      <td>40</td>\n",
       "      <td>35</td>\n",
       "    </tr>\n",
       "    <tr>\n",
       "      <th>120</th>\n",
       "      <td>4</td>\n",
       "      <td>Oct 28 2018</td>\n",
       "      <td>40</td>\n",
       "      <td>31</td>\n",
       "    </tr>\n",
       "    <tr>\n",
       "      <th>121</th>\n",
       "      <td>4</td>\n",
       "      <td>NaN</td>\n",
       "      <td>40</td>\n",
       "      <td>38</td>\n",
       "    </tr>\n",
       "    <tr>\n",
       "      <th>122</th>\n",
       "      <td>4</td>\n",
       "      <td>Oct 30 2018</td>\n",
       "      <td>40</td>\n",
       "      <td>35</td>\n",
       "    </tr>\n",
       "    <tr>\n",
       "      <th>123</th>\n",
       "      <td>4</td>\n",
       "      <td>NaN</td>\n",
       "      <td>40</td>\n",
       "      <td>39</td>\n",
       "    </tr>\n",
       "  </tbody>\n",
       "</table>\n",
       "</div>"
      ],
      "text/plain": [
       "     Group         Date  Fed  Ate\n",
       "119      4  Oct 27 2018   40   35\n",
       "120      4  Oct 28 2018   40   31\n",
       "121      4          NaN   40   38\n",
       "122      4  Oct 30 2018   40   35\n",
       "123      4          NaN   40   39"
      ]
     },
     "execution_count": 667,
     "metadata": {},
     "output_type": "execute_result"
    }
   ],
   "source": [
    "df = pd.read_csv(\"pootef.csv\")\n",
    "df.tail()"
   ]
  },
  {
   "cell_type": "markdown",
   "metadata": {},
   "source": [
    "**Part A**: State the null and alternate hypotheses that Nefaria should test to see if her new feeding regimen is an improvement over the aquarium's standard feeding regimen with a POOTEF of $0.90$."
   ]
  },
  {
   "cell_type": "markdown",
   "metadata": {},
   "source": [
    "$h_0 : P = 0.90$\n",
    "\n",
    "$h_1 : P > 0.90$"
   ]
  },
  {
   "cell_type": "markdown",
   "metadata": {},
   "source": [
    "**Part B**: Complete the function below to test the hypothesis from **Part A** at the $\\alpha = 0.05$ significance level using a p-value test. Is there sufficient evidence for Nefaria to conclude that her feeding regimen is an improvement? "
   ]
  },
  {
   "cell_type": "code",
   "execution_count": 782,
   "metadata": {},
   "outputs": [
    {
     "data": {
      "text/plain": [
       "0.30131168747623693"
      ]
     },
     "execution_count": 782,
     "metadata": {},
     "output_type": "execute_result"
    }
   ],
   "source": [
    "feedings = df['Fed']\n",
    "bites = df['Ate']\n",
    "\n",
    "def z_test(bites, feedings, alpha=0.05):\n",
    "    '''\n",
    "    Function to test H1: p > 0.90 \n",
    "    Returns p-value based on H0: p=0.90 \n",
    "    '''\n",
    "    p = 0.90\n",
    "    pHat = np.sum(bites)/np.sum(feedings)\n",
    "    stddev = np.std(bites)\n",
    "    n = np.sum(feedings)\n",
    "    z = (pHat - p)/np.sqrt((p*(1-p))/n)\n",
    "    \n",
    "    pvalue = 1 - stats.norm.cdf(z)\n",
    "\n",
    "    return pvalue \n",
    "\n",
    "\n",
    "z_test(bites, feedings, 0.05)"
   ]
  },
  {
   "cell_type": "markdown",
   "metadata": {},
   "source": [
    "**RESPONSE** \n",
    "\n",
    "In this case the p-value is larger than our significance level and we can therefore reject the null hypothesis in favor of the alternative hypothesis."
   ]
  },
  {
   "cell_type": "markdown",
   "metadata": {},
   "source": [
    "**Part C**: Bummer, Nefaria thinks. This is the part where she decides to resort to some questionable science.  Maybe there is a reasonable _subset_ of the data for which her alternative hypothesis is supported?  Can she find it?  Can she come up for a reasonable justification for why this subset of the data should be considered while the rest should be discarded? \n",
    "\n",
    "Here are the **rules**: Nefaria cannot modify the original data (e.g. by adding nonexistent feedings or bites to certain groups or days) because her boss will surely notice.  Instead she needs to find a subset of the data for which her hypothesis is supported by a p-value test at the $\\alpha = 0.05$ significance level _and_ be able to explain to her supervisors why her sub-selection of the data is reasonable.  \n",
    "\n",
    "In addition to your explanation of why your successful subset of the data is potentially reasonable, be sure to thoroughly explain the details of the tests that you perform and show all of your Python computation. "
   ]
  },
  {
   "cell_type": "code",
   "execution_count": 669,
   "metadata": {},
   "outputs": [
    {
     "name": "stdout",
     "output_type": "stream",
     "text": [
      "group 1 :  0.603926304102\n",
      "group 2 :  0.00187324045265\n",
      "group 3 :  0.833303374646\n",
      "group 4 :  0.935926719367\n"
     ]
    }
   ],
   "source": [
    "dfClean = df.dropna(subset = ['Date'])\n",
    "\n",
    "group1 = dfClean[dfClean['Group']==1]\n",
    "group2 = dfClean[dfClean['Group']==2]\n",
    "group3 = dfClean[dfClean['Group']==3]\n",
    "group4 = dfClean[dfClean['Group']==4]\n",
    "\n",
    "print(\"group 1 : \", z_test(group1['Ate'], group1['Fed'], 0.05))\n",
    "print(\"group 2 : \", z_test(group2['Ate'], group2['Fed'], 0.05))\n",
    "print(\"group 3 : \", z_test(group3['Ate'], group3['Fed'], 0.05))\n",
    "print(\"group 4 : \", z_test(group4['Ate'], group4['Fed'], 0.05))"
   ]
  },
  {
   "cell_type": "markdown",
   "metadata": {
    "collapsed": true
   },
   "source": [
    "**RESPONSE**\n",
    "\n",
    "First I had to drop all the data that held a \"nan\" value because this data is incomplete and shouldn't be tested.\n",
    "\n",
    "Then I tested all the groups seperately, I don't know why the octopus were seperated by group by it is worth testing because whatever the reason for grouping, it could affect the feeding proportions.\n",
    "\n",
    "In this case all groups except group two could be used to support her hypothesis."
   ]
  },
  {
   "cell_type": "markdown",
   "metadata": {},
   "source": [
    "<br>\n",
    "\n",
    "---\n",
    "[Back to top](#top)\n",
    "<a id='p3'></a>\n",
    "\n",
    "### [30 points] Problem 4 - Simple Linear Regression for Science!\n",
    "\n",
    "From [Google Trends](https://trends.google.com/trends/?geo=US) data, it appears that interest in \"data science\" in the United States has steadily increased since 2004. Interest is measured relative to the maximum rate of Google searches for that term over the time period (so the maximum is 100). \n",
    "\n",
    "**Part A:** Load up the data in `data_science_interest.csv` into a Pandas DataFrame. Create two new columns:\n",
    "* `Year` should be the year associated with that data point, and\n",
    "* `Month` should be the month (1-12) associated with that data point.\n",
    "\n",
    "Then, make a **scatter plot** (using `pyplot.scatter`) of all of the data points, showing how interest in \"data science\" has evolved over time. Label the x-axis by year, displaying ticks for Janurary of each year between 2004 and 2019. "
   ]
  },
  {
   "cell_type": "code",
   "execution_count": 806,
   "metadata": {},
   "outputs": [
    {
     "data": {
      "image/png": "[encoded data removed]",
      "text/plain": [
       "<matplotlib.figure.Figure at 0x1a1f775f60>"
      ]
     },
     "metadata": {},
     "output_type": "display_data"
    },
    {
     "data": {
      "text/html": [
       "<div>\n",
       "<style>\n",
       "    .dataframe thead tr:only-child th {\n",
       "        text-align: right;\n",
       "    }\n",
       "\n",
       "    .dataframe thead th {\n",
       "        text-align: left;\n",
       "    }\n",
       "\n",
       "    .dataframe tbody tr th {\n",
       "        vertical-align: top;\n",
       "    }\n",
       "</style>\n",
       "<table border=\"1\" class=\"dataframe\">\n",
       "  <thead>\n",
       "    <tr style=\"text-align: right;\">\n",
       "      <th></th>\n",
       "      <th>Year</th>\n",
       "      <th>Month</th>\n",
       "      <th>Interest</th>\n",
       "    </tr>\n",
       "  </thead>\n",
       "  <tbody>\n",
       "    <tr>\n",
       "      <th>0</th>\n",
       "      <td>2004</td>\n",
       "      <td>1</td>\n",
       "      <td>15</td>\n",
       "    </tr>\n",
       "    <tr>\n",
       "      <th>1</th>\n",
       "      <td>2004</td>\n",
       "      <td>2</td>\n",
       "      <td>9</td>\n",
       "    </tr>\n",
       "    <tr>\n",
       "      <th>2</th>\n",
       "      <td>2004</td>\n",
       "      <td>3</td>\n",
       "      <td>10</td>\n",
       "    </tr>\n",
       "    <tr>\n",
       "      <th>3</th>\n",
       "      <td>2004</td>\n",
       "      <td>4</td>\n",
       "      <td>11</td>\n",
       "    </tr>\n",
       "    <tr>\n",
       "      <th>4</th>\n",
       "      <td>2004</td>\n",
       "      <td>5</td>\n",
       "      <td>6</td>\n",
       "    </tr>\n",
       "  </tbody>\n",
       "</table>\n",
       "</div>"
      ],
      "text/plain": [
       "   Year  Month  Interest\n",
       "0  2004      1        15\n",
       "1  2004      2         9\n",
       "2  2004      3        10\n",
       "3  2004      4        11\n",
       "4  2004      5         6"
      ]
     },
     "execution_count": 806,
     "metadata": {},
     "output_type": "execute_result"
    }
   ],
   "source": [
    "#read in file\n",
    "interest_df = pd.read_csv(\"data_science_interest.csv\")\n",
    "\n",
    "#parse datetime format and add to new columns\n",
    "interest_df['Year'] = pd.DatetimeIndex(interest_df['Month']).year\n",
    "interest_df['Month'] = pd.DatetimeIndex(interest_df['Month']).month\n",
    "\n",
    "#reorder columns\n",
    "columnsTitles=[\"Year\",\"Month\",\"Interest\"]\n",
    "interest_df=interest_df.reindex(columns=columnsTitles)\n",
    "\n",
    "#scatter plot all data\n",
    "fig, ax = plt.subplots(nrows=1, ncols=1, figsize=(10,7))\n",
    "x = interest_df['Year']+interest_df['Month']/12\n",
    "ax.scatter(x, interest_df['Interest'])\n",
    "ax.set_xlabel(\"Year\", fontsize=16)\n",
    "ax.set_ylabel(\"Interest Google Search Score\", fontsize=16)\n",
    "plt.title('Interest In Data Science -- Google Searches')\n",
    "plt.tick_params(axis='x')\n",
    "plt.xticks(np.arange(2004, 2020, step=1))\n",
    "plt.show()\n",
    "\n",
    "interest_df.head()"
   ]
  },
  {
   "cell_type": "markdown",
   "metadata": {},
   "source": [
    "**Part B:** These data (and the sea-level data from Homework 4) are a **time series**, where the independent variable is *time* and the dependent quantity is interest in data science. One of the central assumptions of linear regression is that the data are observations generated by some process, independently of one another. With time series data, we need to be careful because there could be some other process affecting the output data. In particular, **annual cycles** are patterns that reoccur each year and are frequently present in time series data. For example, seasonal patterns of weather are annual cycles.\n",
    "\n",
    "To see what kind of effect time has, make a **line plot** (using `pyplot.plot`) of the interest in data science, as a function of time. Again, include all of the data points and, for the x-axis, label only the tick marks associated with January of each year, and be sure to label your axes."
   ]
  },
  {
   "cell_type": "code",
   "execution_count": 671,
   "metadata": {},
   "outputs": [
    {
     "data": {
      "image/png": "[encoded data removed]",
      "text/plain": [
       "<matplotlib.figure.Figure at 0x1165dcc18>"
      ]
     },
     "metadata": {},
     "output_type": "display_data"
    },
    {
     "data": {
      "text/html": [
       "<div>\n",
       "<style>\n",
       "    .dataframe thead tr:only-child th {\n",
       "        text-align: right;\n",
       "    }\n",
       "\n",
       "    .dataframe thead th {\n",
       "        text-align: left;\n",
       "    }\n",
       "\n",
       "    .dataframe tbody tr th {\n",
       "        vertical-align: top;\n",
       "    }\n",
       "</style>\n",
       "<table border=\"1\" class=\"dataframe\">\n",
       "  <thead>\n",
       "    <tr style=\"text-align: right;\">\n",
       "      <th></th>\n",
       "      <th>Year</th>\n",
       "      <th>Month</th>\n",
       "      <th>Interest</th>\n",
       "    </tr>\n",
       "  </thead>\n",
       "  <tbody>\n",
       "    <tr>\n",
       "      <th>0</th>\n",
       "      <td>2004</td>\n",
       "      <td>1</td>\n",
       "      <td>15</td>\n",
       "    </tr>\n",
       "    <tr>\n",
       "      <th>1</th>\n",
       "      <td>2004</td>\n",
       "      <td>2</td>\n",
       "      <td>9</td>\n",
       "    </tr>\n",
       "    <tr>\n",
       "      <th>2</th>\n",
       "      <td>2004</td>\n",
       "      <td>3</td>\n",
       "      <td>10</td>\n",
       "    </tr>\n",
       "    <tr>\n",
       "      <th>3</th>\n",
       "      <td>2004</td>\n",
       "      <td>4</td>\n",
       "      <td>11</td>\n",
       "    </tr>\n",
       "    <tr>\n",
       "      <th>4</th>\n",
       "      <td>2004</td>\n",
       "      <td>5</td>\n",
       "      <td>6</td>\n",
       "    </tr>\n",
       "  </tbody>\n",
       "</table>\n",
       "</div>"
      ],
      "text/plain": [
       "   Year  Month  Interest\n",
       "0  2004      1        15\n",
       "1  2004      2         9\n",
       "2  2004      3        10\n",
       "3  2004      4        11\n",
       "4  2004      5         6"
      ]
     },
     "execution_count": 671,
     "metadata": {},
     "output_type": "execute_result"
    }
   ],
   "source": [
    "#plot by interest over the years including months\n",
    "fig, ax = plt.subplots(nrows=1, ncols=1, figsize=(10,7))\n",
    "plt.plot(x, interest_df['Interest'])\n",
    "ax.set_xlabel(\"Year\", fontsize=16)\n",
    "ax.set_ylabel(\"Interest Google Search Score\", fontsize=16)\n",
    "plt.title('Interest In Data Science -- Google Searches')\n",
    "plt.tick_params(axis='x')\n",
    "plt.xticks(np.arange(2004, 2020, step=1))\n",
    "plt.show()\n",
    "\n",
    "interest_df.head()"
   ]
  },
  {
   "cell_type": "markdown",
   "metadata": {},
   "source": [
    "**Part C:** Does your plot from Part B suggest that there is some annual cycle to the interest in data science? During which months is interest in data science highest? What about lowest? Justify your answers using your plot, **and** by computing the mean interest in data science for each month. So, compute 12 values and report them in a markdown table. Do **not** just spit out a horizontal list of 12 numbers. That would be yucky to try to read, and we're scientists.\n",
    "\n",
    "What do you think accounts for the increased interest in data science during the fall months?"
   ]
  },
  {
   "cell_type": "markdown",
   "metadata": {},
   "source": [
    "**RESPONSE**\n",
    "\n",
    "For each year it appears that interest increases throughout the year. In other words interest during winter season tends to dip down and then interest goes up through summer and fall. I think people's interest in data science might increase during the fall months because fall and early winter people do a lot of travelling and holiday shopping and may want to better understand the best ways to do these things."
   ]
  },
  {
   "cell_type": "code",
   "execution_count": 672,
   "metadata": {},
   "outputs": [
    {
     "data": {
      "image/png": "[encoded data removed]",
      "text/plain": [
       "<matplotlib.figure.Figure at 0x11635ae10>"
      ]
     },
     "metadata": {},
     "output_type": "display_data"
    },
    {
     "data": {
      "text/html": [
       "<div>\n",
       "<style>\n",
       "    .dataframe thead tr:only-child th {\n",
       "        text-align: right;\n",
       "    }\n",
       "\n",
       "    .dataframe thead th {\n",
       "        text-align: left;\n",
       "    }\n",
       "\n",
       "    .dataframe tbody tr th {\n",
       "        vertical-align: top;\n",
       "    }\n",
       "</style>\n",
       "<table border=\"1\" class=\"dataframe\">\n",
       "  <thead>\n",
       "    <tr style=\"text-align: right;\">\n",
       "      <th></th>\n",
       "      <th>Year</th>\n",
       "      <th>Month</th>\n",
       "      <th>Interest</th>\n",
       "    </tr>\n",
       "  </thead>\n",
       "  <tbody>\n",
       "    <tr>\n",
       "      <th>0</th>\n",
       "      <td>2004</td>\n",
       "      <td>1</td>\n",
       "      <td>15</td>\n",
       "    </tr>\n",
       "    <tr>\n",
       "      <th>1</th>\n",
       "      <td>2004</td>\n",
       "      <td>2</td>\n",
       "      <td>9</td>\n",
       "    </tr>\n",
       "    <tr>\n",
       "      <th>2</th>\n",
       "      <td>2004</td>\n",
       "      <td>3</td>\n",
       "      <td>10</td>\n",
       "    </tr>\n",
       "    <tr>\n",
       "      <th>3</th>\n",
       "      <td>2004</td>\n",
       "      <td>4</td>\n",
       "      <td>11</td>\n",
       "    </tr>\n",
       "    <tr>\n",
       "      <th>4</th>\n",
       "      <td>2004</td>\n",
       "      <td>5</td>\n",
       "      <td>6</td>\n",
       "    </tr>\n",
       "  </tbody>\n",
       "</table>\n",
       "</div>"
      ],
      "text/plain": [
       "   Year  Month  Interest\n",
       "0  2004      1        15\n",
       "1  2004      2         9\n",
       "2  2004      3        10\n",
       "3  2004      4        11\n",
       "4  2004      5         6"
      ]
     },
     "execution_count": 672,
     "metadata": {},
     "output_type": "execute_result"
    }
   ],
   "source": [
    "jan = interest_df[interest_df['Month']==1]\n",
    "feb = interest_df[interest_df['Month']==2]\n",
    "mar = interest_df[interest_df['Month']==3]\n",
    "apr = interest_df[interest_df['Month']==4]\n",
    "may = interest_df[interest_df['Month']==5]\n",
    "jun = interest_df[interest_df['Month']==6]\n",
    "jul = interest_df[interest_df['Month']==7]\n",
    "aug = interest_df[interest_df['Month']==8]\n",
    "sep = interest_df[interest_df['Month']==9]\n",
    "octb = interest_df[interest_df['Month']==10]\n",
    "nov = interest_df[interest_df['Month']==11]\n",
    "dec = interest_df[interest_df['Month']==12]\n",
    "\n",
    "monthly_mean = [None, np.mean(jan['Interest']),np.mean(feb['Interest']),\n",
    "                np.mean(mar['Interest']),np.mean(apr['Interest']),\n",
    "                np.mean(may['Interest']),np.mean(jun['Interest']),\n",
    "                np.mean(jul['Interest']),np.mean(aug['Interest']),\n",
    "                np.mean(sep['Interest']),np.mean(octb['Interest']),\n",
    "                np.mean(nov['Interest']),np.mean(dec['Interest'])]\n",
    "\n",
    "\n",
    "plt.plot(monthly_mean)\n",
    "plt.tick_params(axis=\"x\")\n",
    "plt.xticks(np.arange(1, 13, step=1))\n",
    "plt.show()\n",
    "\n",
    "interest_df.head()"
   ]
  },
  {
   "cell_type": "markdown",
   "metadata": {},
   "source": [
    "**Part D:** (Spoiler alert!) Since there seems to be an annual cycle, one of the fundamental assumptions of our simple linear regression model is not satisfied. Namely, it is not the case that the model-data residuals, $\\epsilon_i$, are independent of one another.\n",
    "\n",
    "So, we need to process our data a bit further before fitting a regression model. One way to address this is to take the mean of all the data each year and use for analysis the time series of annual mean interest in data science. Create a new Pandas DataFrame that consists only of two columns:\n",
    "* `year`, and\n",
    "* `interest`, the mean interest in data science from the twelve months in that year."
   ]
  },
  {
   "cell_type": "code",
   "execution_count": 698,
   "metadata": {},
   "outputs": [
    {
     "data": {
      "text/html": [
       "<div>\n",
       "<style>\n",
       "    .dataframe thead tr:only-child th {\n",
       "        text-align: right;\n",
       "    }\n",
       "\n",
       "    .dataframe thead th {\n",
       "        text-align: left;\n",
       "    }\n",
       "\n",
       "    .dataframe tbody tr th {\n",
       "        vertical-align: top;\n",
       "    }\n",
       "</style>\n",
       "<table border=\"1\" class=\"dataframe\">\n",
       "  <thead>\n",
       "    <tr style=\"text-align: right;\">\n",
       "      <th></th>\n",
       "      <th>Year</th>\n",
       "      <th>Interest</th>\n",
       "    </tr>\n",
       "  </thead>\n",
       "  <tbody>\n",
       "    <tr>\n",
       "      <th>0</th>\n",
       "      <td>2004</td>\n",
       "      <td>9.666667</td>\n",
       "    </tr>\n",
       "    <tr>\n",
       "      <th>1</th>\n",
       "      <td>2005</td>\n",
       "      <td>8.583333</td>\n",
       "    </tr>\n",
       "    <tr>\n",
       "      <th>2</th>\n",
       "      <td>2006</td>\n",
       "      <td>7.083333</td>\n",
       "    </tr>\n",
       "    <tr>\n",
       "      <th>3</th>\n",
       "      <td>2007</td>\n",
       "      <td>6.750000</td>\n",
       "    </tr>\n",
       "    <tr>\n",
       "      <th>4</th>\n",
       "      <td>2008</td>\n",
       "      <td>6.750000</td>\n",
       "    </tr>\n",
       "    <tr>\n",
       "      <th>5</th>\n",
       "      <td>2009</td>\n",
       "      <td>8.083333</td>\n",
       "    </tr>\n",
       "    <tr>\n",
       "      <th>6</th>\n",
       "      <td>2010</td>\n",
       "      <td>7.916667</td>\n",
       "    </tr>\n",
       "    <tr>\n",
       "      <th>7</th>\n",
       "      <td>2011</td>\n",
       "      <td>8.333333</td>\n",
       "    </tr>\n",
       "    <tr>\n",
       "      <th>8</th>\n",
       "      <td>2012</td>\n",
       "      <td>10.500000</td>\n",
       "    </tr>\n",
       "    <tr>\n",
       "      <th>9</th>\n",
       "      <td>2013</td>\n",
       "      <td>15.000000</td>\n",
       "    </tr>\n",
       "    <tr>\n",
       "      <th>10</th>\n",
       "      <td>2014</td>\n",
       "      <td>24.000000</td>\n",
       "    </tr>\n",
       "    <tr>\n",
       "      <th>11</th>\n",
       "      <td>2015</td>\n",
       "      <td>35.833333</td>\n",
       "    </tr>\n",
       "    <tr>\n",
       "      <th>12</th>\n",
       "      <td>2016</td>\n",
       "      <td>43.083333</td>\n",
       "    </tr>\n",
       "    <tr>\n",
       "      <th>13</th>\n",
       "      <td>2017</td>\n",
       "      <td>61.250000</td>\n",
       "    </tr>\n",
       "    <tr>\n",
       "      <th>14</th>\n",
       "      <td>2018</td>\n",
       "      <td>72.750000</td>\n",
       "    </tr>\n",
       "    <tr>\n",
       "      <th>15</th>\n",
       "      <td>2019</td>\n",
       "      <td>85.727273</td>\n",
       "    </tr>\n",
       "  </tbody>\n",
       "</table>\n",
       "</div>"
      ],
      "text/plain": [
       "    Year   Interest\n",
       "0   2004   9.666667\n",
       "1   2005   8.583333\n",
       "2   2006   7.083333\n",
       "3   2007   6.750000\n",
       "4   2008   6.750000\n",
       "5   2009   8.083333\n",
       "6   2010   7.916667\n",
       "7   2011   8.333333\n",
       "8   2012  10.500000\n",
       "9   2013  15.000000\n",
       "10  2014  24.000000\n",
       "11  2015  35.833333\n",
       "12  2016  43.083333\n",
       "13  2017  61.250000\n",
       "14  2018  72.750000\n",
       "15  2019  85.727273"
      ]
     },
     "execution_count": 698,
     "metadata": {},
     "output_type": "execute_result"
    }
   ],
   "source": [
    "meanInterest_df = interest_df.groupby(interest_df['Year'])['Interest'].mean()\n",
    "meanInterest_df = meanInterest_df.reset_index()\n",
    "meanInterest_df.head(16)"
   ]
  },
  {
   "cell_type": "markdown",
   "metadata": {},
   "source": [
    "**Part E:** Perform a simple linear regression with `year` as the feature and `interest` as the response (mean annual interest in data science).  Report the estimated regression model in the form $Y = \\alpha + \\beta x$. Do all computations in Python. \n",
    "\n",
    "Then make a scatter plot of the mean annual interest in data science as a function of year, and overlay the estimated regression line. Label your axes and provide a legend."
   ]
  },
  {
   "cell_type": "code",
   "execution_count": 801,
   "metadata": {},
   "outputs": [
    {
     "name": "stdout",
     "output_type": "stream",
     "text": [
      "alpha = -9453.46442736\n",
      "Bhat = 4.71248885918\n",
      "pval = 2.67132448218e-05\n",
      "stderr = 0.770589011013\n"
     ]
    },
    {
     "data": {
      "image/png": "[encoded data removed]",
      "text/plain": [
       "<matplotlib.figure.Figure at 0x1166d36a0>"
      ]
     },
     "metadata": {},
     "output_type": "display_data"
    }
   ],
   "source": [
    "x = meanInterest_df['Year']\n",
    "y = meanInterest_df['Interest']\n",
    "Bhat, alphaHat, rval, pval, stderr = stats.linregress(x, y)\n",
    "print(\"alpha =\", alphaHat)\n",
    "print(\"Bhat =\", Bhat)\n",
    "print(\"pval =\", pval)\n",
    "print(\"stderr =\", stderr)\n",
    "\n",
    "plt.scatter(x, y, color=\"steelblue\", alpha=0.75, s=100)\n",
    "plt.plot(x, alphaHat + Bhat*x, color=\"steelblue\", lw=3);"
   ]
  },
  {
   "cell_type": "markdown",
   "metadata": {},
   "source": [
    "**Part F**: Give a physical interpretation of the coefficient $\\hat{\\beta}$, estimated from your model. Include addressing whether the relationship between time and interest in data science is positive or negative. Fully justify your responses."
   ]
  },
  {
   "cell_type": "markdown",
   "metadata": {
    "collapsed": true
   },
   "source": [
    "**RESPONSE**\n",
    "\n",
    "$\\hat{\\beta}$ has a slope that is increasing over time. This means that interest in data science is increasing over time."
   ]
  },
  {
   "cell_type": "markdown",
   "metadata": {},
   "source": [
    "**Part G**: What interest in data science does your simple linear regression model predict in the year 2025? What about in 2050? What are potential drawbacks to this model for interest in data science (think about the minimium and maximum values for the data)? \n",
    "\n",
    "**Note**: From Google Trends Documentation, the \"interest\" variable is defined as: \"Interest represent search interest relative to the highest point on the chart for the given region and time. A value of 100 is the peak popularity for the term. A value of 50 means that the term is half as popular. A score of 0 means there was not enough data for this term.\""
   ]
  },
  {
   "cell_type": "markdown",
   "metadata": {
    "collapsed": true
   },
   "source": [
    "**RESPONSE**\n",
    "\n",
    "Using this model to predict future trends, it could be that interest in data science will continue to increase over time. One potential drawback could be that data science will hit a peak interest or some unknown variables could detract interest. Because interest maxes out at 100 there will have to be a peak (and probable decline) interest eventually."
   ]
  },
  {
   "cell_type": "markdown",
   "metadata": {},
   "source": [
    "**Part H:** Compute a 80% confidence interval for the slope parameter, $\\beta$, ***by hand***. This means performing all calculations yourself in Python, as opposed to calling a simple Python function that gives you the result. Why is this a confidence interval for $\\beta$ and not for $\\hat{\\beta}$?"
   ]
  },
  {
   "cell_type": "code",
   "execution_count": 802,
   "metadata": {},
   "outputs": [
    {
     "name": "stdout",
     "output_type": "stream",
     "text": [
      "CI = [ 3.67602323315 , 5.74895448521 ]\n"
     ]
    }
   ],
   "source": [
    "alpha = 1 - 0.80\n",
    "n = len(x)\n",
    "\n",
    "yhat = alphaHat + Bhat*x\n",
    "SSE = np.sum((y-(yhat))**2)\n",
    "var_hat = SSE/(n-2)\n",
    "xbar = np.mean(x)\n",
    "\n",
    "SE_beta = np.sqrt(var_hat/np.sum((x - xbar)**2))\n",
    "\n",
    "t = stats.t.ppf(alpha/2, n-2)\n",
    "lower = Bhat - t * SE_beta\n",
    "upper =  Bhat + t * SE_beta\n",
    "print(\"CI = [\",upper,\",\",lower,\"]\")"
   ]
  },
  {
   "cell_type": "markdown",
   "metadata": {
    "collapsed": true
   },
   "source": [
    "**Part I:** What proportion of the variation in mean annual interest in data science is explained by your linear regression model?"
   ]
  },
  {
   "cell_type": "code",
   "execution_count": 805,
   "metadata": {},
   "outputs": [
    {
     "name": "stdout",
     "output_type": "stream",
     "text": [
      "R2 : 0.7276189056683344\n"
     ]
    }
   ],
   "source": [
    "ybar = np.mean(y)\n",
    "SST  = np.sum((y-ybar)**2)\n",
    "R2 = 1 - (SSE/SST)\n",
    "print(\"R2 :\", R2)"
   ]
  }
 ],
 "metadata": {
  "kernelspec": {
   "display_name": "Python 3",
   "language": "python",
   "name": "python3"
  },
  "language_info": {
   "codemirror_mode": {
    "name": "ipython",
    "version": 3
   },
   "file_extension": ".py",
   "mimetype": "text/x-python",
   "name": "python",
   "nbconvert_exporter": "python",
   "pygments_lexer": "ipython3",
   "version": "3.6.3"
  }
 },
 "nbformat": 4,
 "nbformat_minor": 2
}
